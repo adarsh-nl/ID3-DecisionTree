{
  "nbformat": 4,
  "nbformat_minor": 0,
  "metadata": {
    "colab": {
      "provenance": []
    },
    "kernelspec": {
      "name": "python3",
      "display_name": "Python 3"
    },
    "language_info": {
      "name": "python"
    }
  },
  "cells": [
    {
      "cell_type": "code",
      "source": [
        "import math\n",
        "\n",
        "class Node:\n",
        "    def __init__(self, attribute=None, children=None, leaf=None):\n",
        "        self.attribute = attribute\n",
        "        self.children = children if children else {}\n",
        "        self.leaf = leaf\n",
        "        \n",
        "    def is_leaf(self):\n",
        "        return self.leaf is not None\n",
        "\n",
        "def load_data(file_path):\n",
        "    data = []\n",
        "    with open(file_path, 'r') as f:\n",
        "        for line in f:\n",
        "            row = list(map(float, line.split()))\n",
        "            data.append(row)\n",
        "    return data\n",
        "\n",
        "def get_majority_class(data):\n",
        "    class_count = {}\n",
        "    for row in data:\n",
        "        label = int(row[-1])\n",
        "        if label not in class_count:\n",
        "            class_count[label] = 0\n",
        "        class_count[label] += 1\n",
        "    majority_class = max(class_count, key=class_count.get)\n",
        "    return majority_class\n",
        "\n",
        "def get_entropy(data):\n",
        "    class_count = {}\n",
        "    for row in data:\n",
        "        label = int(row[-1])\n",
        "        if label not in class_count:\n",
        "            class_count[label] = 0\n",
        "        class_count[label] += 1\n",
        "    entropy = 0\n",
        "    for count in class_count.values():\n",
        "        prob = count / len(data)\n",
        "        entropy += -prob * math.log(prob, 2)\n",
        "    return entropy\n",
        "\n",
        "def get_attribute_values(data, attribute):\n",
        "    values = set()\n",
        "    for row in data:\n",
        "        values.add(row[attribute])\n",
        "    return sorted(list(values))\n",
        "\n",
        "def get_attribute_with_max_gain(data, used_attributes):\n",
        "    entropy_s = get_entropy(data)\n",
        "    max_gain = 0\n",
        "    max_attribute = None\n",
        "    for attribute in range(len(data[0]) - 1):\n",
        "        if attribute in used_attributes:\n",
        "            continue\n",
        "        attribute_values = get_attribute_values(data, attribute)\n",
        "        attribute_entropy = 0\n",
        "        for value in attribute_values:\n",
        "            subset = [row for row in data if row[attribute] == value]\n",
        "            prob = len(subset) / len(data)\n",
        "            attribute_entropy += prob * get_entropy(subset)\n",
        "        gain = entropy_s - attribute_entropy\n",
        "        if gain > max_gain:\n",
        "            max_gain = gain\n",
        "            max_attribute = attribute\n",
        "    return max_attribute\n",
        "\n",
        "def id3(data, used_attributes):\n",
        "    # If all instances belong to the same class, return a leaf node with that class\n",
        "    labels = set(row[-1] for row in data)\n",
        "    if len(labels) == 1:\n",
        "        return Node(leaf=labels.pop())\n",
        "    \n",
        "    # If there are no more attributes to split on, return a leaf node with the majority class\n",
        "    if len(used_attributes) == len(data[0]) - 1:\n",
        "        majority_class = get_majority_class(data)\n",
        "        return Node(leaf=majority_class)\n",
        "    \n",
        "    # Choose the attribute with the highest information gain\n",
        "    attribute = get_attribute_with_max_gain(data, used_attributes)\n",
        "    node = Node(attribute)\n",
        "    used_attributes.add(attribute)\n",
        "    \n",
        "    # Recurse on each value of the chosen attribute\n",
        "    attribute_values = get_attribute_values(data, attribute)\n",
        "    for value in attribute_values:\n",
        "        subset = [row for row in data if row[attribute] == value]\n",
        "        if len(subset) == 0:\n",
        "            # If there are no instances with this attribute value, return a leaf node with the majority class\n",
        "            majority_class = get_majority_class(data)\n",
        "            node.children[value] = Node(leaf=majority_class)\n",
        "        else:\n",
        "            node.children[value] = id3(subset, used_attributes.copy())\n",
        "    used_attributes.remove(attribute)\n",
        "    return node\n"
      ],
      "metadata": {
        "id": "5y84a6jkoFV7"
      },
      "execution_count": null,
      "outputs": []
    },
    {
      "cell_type": "code",
      "source": [],
      "metadata": {
        "id": "r6h9vShcuJ_Z"
      },
      "execution_count": null,
      "outputs": []
    },
    {
      "cell_type": "code",
      "source": [
        "# Load training and test data\n",
        "train_data = load_data('/content/pp_tra.dat')\n",
        "test_data = load_data('/content/pp_tes.dat')\n",
        "\n",
        "# Build decision tree using ID3 algorithm\n",
        "root = id3(train_data, set())\n",
        "\n",
        "# Predict class labels for test data using decision tree\n",
        "correct_count = 0\n",
        "for row in test_data:\n",
        "    node = root\n",
        "    while not node.is_leaf():\n",
        "        attribute = node.attribute\n",
        "        value = row[attribute]\n",
        "        if value not in node.children:\n",
        "            # If a value is encountered that was not in the training data, use the majority class at that node\n",
        "            majority_class = get_majority_class(train_data)\n",
        "            node = Node(leaf=majority_class)\n",
        "        else:\n",
        "            node = node.children[value]\n",
        "    if node.leaf == row[-1]:\n",
        "        correct_count += 1\n",
        "\n",
        "# Compute accuracy of predictions\n",
        "accuracy = correct_count / len(test_data)\n",
        "print(f'Accuracy: {accuracy}')"
      ],
      "metadata": {
        "colab": {
          "base_uri": "https://localhost:8080/"
        },
        "id": "9WxEBqKspZfw",
        "outputId": "79dd234d-1d2a-4cfd-fe97-fe8521a40060"
      },
      "execution_count": null,
      "outputs": [
        {
          "output_type": "stream",
          "name": "stdout",
          "text": [
            "Accuracy: 0.6024602460246025\n"
          ]
        }
      ]
    },
    {
      "cell_type": "code",
      "source": [],
      "metadata": {
        "id": "7-I777-FptI6"
      },
      "execution_count": null,
      "outputs": []
    }
  ]
}